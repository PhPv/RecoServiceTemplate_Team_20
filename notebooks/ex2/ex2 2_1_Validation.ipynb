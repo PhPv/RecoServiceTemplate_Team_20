{
  "nbformat": 4,
  "nbformat_minor": 0,
  "metadata": {
    "colab": {
      "provenance": []
    },
    "kernelspec": {
      "name": "python3",
      "display_name": "Python 3"
    },
    "language_info": {
      "name": "python"
    }
  },
  "cells": [
    {
      "cell_type": "code",
      "execution_count": 1,
      "metadata": {
        "id": "KHEcftqDDz1K"
      },
      "outputs": [],
      "source": [
        "import pandas as pd\n",
        "import numpy as np\n",
        "from sklearn.model_selection import KFold\n",
        "\n",
        "user_id, item_id = [], []"
      ]
    },
    {
      "cell_type": "code",
      "source": [
        "with open('train', 'r') as file:\n",
        "\n",
        "    rows = file.readlines()\n",
        "\n",
        "    for i, row in enumerate(range(len(rows))):\n",
        "        likes = [int(j) for j in rows[row].strip().split(' ')][::-1]\n",
        "        user = [i] * len(likes)\n",
        "        user_id.extend(user)\n",
        "        item_id.extend(likes)\n",
        "\n",
        "\n",
        "df = pd.DataFrame({\n",
        "    'user': user_id,\n",
        "    'item': item_id\n",
        "})\n",
        "\n",
        "df.to_csv('train_2.csv', index=False)"
      ],
      "metadata": {
        "id": "2nct8gIlEQvq"
      },
      "execution_count": 4,
      "outputs": []
    },
    {
      "cell_type": "code",
      "source": [
        "df = pd.read_csv(\"train_2.csv\")\n",
        "print(df.head())"
      ],
      "metadata": {
        "colab": {
          "base_uri": "https://localhost:8080/"
        },
        "id": "JSw6YijrEV8W",
        "outputId": "4ecccd4c-7011-43a2-cc44-7b1cba3fea5c"
      },
      "execution_count": 6,
      "outputs": [
        {
          "output_type": "stream",
          "name": "stdout",
          "text": [
            "   user    item\n",
            "0     0  388242\n",
            "1     0  278503\n",
            "2     0  102795\n",
            "3     0  470957\n",
            "4     0  159637\n"
          ]
        }
      ]
    },
    {
      "cell_type": "code",
      "source": [
        "# Добавляем колонку с информацией о свежести лайков\n",
        "df[\"order\"] = df.groupby(\"user\").cumcount()\n",
        "print(df.tail(25))"
      ],
      "metadata": {
        "id": "hSAyF7JwEYUQ"
      },
      "execution_count": null,
      "outputs": []
    },
    {
      "cell_type": "code",
      "source": [
        "users = df[\"user\"].unique()\n",
        "print(users)"
      ],
      "metadata": {
        "colab": {
          "base_uri": "https://localhost:8080/"
        },
        "id": "uuXAQAi8Hrn7",
        "outputId": "69713028-5770-412c-a0fa-d167d23ec48c"
      },
      "execution_count": 21,
      "outputs": [
        {
          "output_type": "stream",
          "name": "stdout",
          "text": [
            "[    0     1     2 ... 30495 30496 30497]\n"
          ]
        }
      ]
    },
    {
      "cell_type": "code",
      "source": [
        "class UsersKFoldPOut:\n",
        "    def __init__(self, n_folds: int, p: int, random_seed: int = 23):\n",
        "        self.n_folds = n_folds\n",
        "        self.p = p\n",
        "        self.random_seed = random_seed\n",
        "\n",
        "    def split(self, df: pd.DataFrame):\n",
        "        # выявляем юзеров\n",
        "        users = df[\"user\"].unique()\n",
        "        kfold = KFold(\n",
        "            n_splits=self.n_folds, shuffle=True, random_state=self.random_seed\n",
        "        )\n",
        "\n",
        "        for train_samples, test_samples in kfold.split(users):\n",
        "            train_mask = df[\"user\"].isin(train_samples)\n",
        "            test_mask = df[\"user\"].isin(test_samples) & (df[\"order\"] < self.p)\n",
        "            yield train_mask, test_mask\n"
      ],
      "metadata": {
        "id": "Cs5L5JdxEaaL"
      },
      "execution_count": 42,
      "outputs": []
    },
    {
      "cell_type": "code",
      "source": [
        "n_folds = 3\n",
        "p = 3\n",
        "\n",
        "cv = UsersKFoldPOut(n_folds=n_folds, p=p)"
      ],
      "metadata": {
        "id": "WELkwjw9EcoG"
      },
      "execution_count": 43,
      "outputs": []
    },
    {
      "cell_type": "code",
      "source": [
        "for i, (train_mask, test_mask) in enumerate(cv.split(df)):\n",
        "    train = df[train_mask]\n",
        "    test = df[test_mask]\n",
        "\n",
        "    # Проверяем нет пересечений юзеров в трейн и тесте\n",
        "    assert (\n",
        "        len(set(train[\"user\"].unique()).intersection(test[\"user\"].unique())) == 0\n",
        "    ), \"Найдены пересечения\"\n",
        "    # Проверяем, что в тест попало не больше p последних треков\n",
        "    assert (\n",
        "        test.groupby(\"user\").count().values.max() <= p\n",
        "    ), f\"Количество последних треков в тесте больше чем {p}\"\n",
        "   \n",
        "    print(f\"Fold#{i} | Train: {train.shape[0]}, Test: {test.shape[0]}\")\n"
      ],
      "metadata": {
        "colab": {
          "base_uri": "https://localhost:8080/"
        },
        "id": "4MJcA7pBEf0u",
        "outputId": "d23b2e69-08eb-4c92-d932-17af066f4d62"
      },
      "execution_count": 44,
      "outputs": [
        {
          "output_type": "stream",
          "name": "stdout",
          "text": [
            "Fold#0 | Train: 2897443, Test: 30498\n",
            "Fold#1 | Train: 2885875, Test: 30498\n",
            "Fold#2 | Train: 2893772, Test: 30498\n"
          ]
        }
      ]
    }
  ]
}