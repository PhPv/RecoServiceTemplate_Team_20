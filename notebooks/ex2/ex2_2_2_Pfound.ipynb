{
  "cells": [
    {
      "cell_type": "code",
      "execution_count": 3,
      "metadata": {
        "id": "ShCEMIst6O2m"
      },
      "outputs": [],
      "source": [
        "import pandas as pd\n",
        "import numpy as np\n"
      ]
    },
    {
      "cell_type": "code",
      "execution_count": 4,
      "metadata": {
        "id": "SA3bILd76PtG"
      },
      "outputs": [],
      "source": [
        "# решение с сайта\n",
        "# считываем данные\n",
        "qid_query = pd.read_csv('hostid_url.tsv', sep='\\t', names=['qid', 'query'])\n",
        "qid_url_rating = pd.read_csv('qid_url_rating.tsv', sep='\\t', names=['qid', 'url', 'rating'])\n",
        "hostid_url = pd.read_csv('hostid_url.tsv', sep='\\t', names=['hostid', 'url'])\n",
        "\n",
        "# делаем join двух таблиц, чтобы было просто брать url с максимальным рейтингом\n",
        "qid_url_rating_hostid = pd.merge(qid_url_rating, hostid_url, on=\"url\")\n",
        "\n",
        "\n",
        "def plook(ind, rels):\n",
        "    if ind == 0:\n",
        "        return 1\n",
        "    return plook(ind-1, rels)*(1-rels[ind-1])*(1-0.15)\n",
        "\n",
        "def pfound(group):\n",
        "    max_by_host = group.groupby(\"hostid\")[\"rating\"].max() # максимальный рейтинг хоста\n",
        "    top10 = max_by_host.sort_values(ascending=False)[:10] # берем топ-10 урлов с наивысшим рейтингом\n",
        "    pfound = 0\n",
        "    for ind, val in enumerate(top10):\n",
        "        pfound += val*plook(ind, top10.values)\n",
        "    return pfound"
      ]
    },
    {
      "cell_type": "code",
      "execution_count": 5,
      "metadata": {
        "colab": {
          "base_uri": "https://localhost:8080/",
          "height": 49
        },
        "id": "EB1QjHsm6Ss5",
        "outputId": "2f736398-47a9-4508-e206-0b1c85deae52"
      },
      "outputs": [
        {
          "data": {
            "text/html": [
              "\n",
              "  <div id=\"df-fe961d02-9b0c-4e7f-a7f5-6f1ef1f7559c\">\n",
              "    <div class=\"colab-df-container\">\n",
              "      <div>\n",
              "<style scoped>\n",
              "    .dataframe tbody tr th:only-of-type {\n",
              "        vertical-align: middle;\n",
              "    }\n",
              "\n",
              "    .dataframe tbody tr th {\n",
              "        vertical-align: top;\n",
              "    }\n",
              "\n",
              "    .dataframe thead th {\n",
              "        text-align: right;\n",
              "    }\n",
              "</style>\n",
              "<table border=\"1\" class=\"dataframe\">\n",
              "  <thead>\n",
              "    <tr style=\"text-align: right;\">\n",
              "      <th></th>\n",
              "      <th>qid</th>\n",
              "      <th>query</th>\n",
              "    </tr>\n",
              "  </thead>\n",
              "  <tbody>\n",
              "  </tbody>\n",
              "</table>\n",
              "</div>\n",
              "      <button class=\"colab-df-convert\" onclick=\"convertToInteractive('df-fe961d02-9b0c-4e7f-a7f5-6f1ef1f7559c')\"\n",
              "              title=\"Convert this dataframe to an interactive table.\"\n",
              "              style=\"display:none;\">\n",
              "        \n",
              "  <svg xmlns=\"http://www.w3.org/2000/svg\" height=\"24px\"viewBox=\"0 0 24 24\"\n",
              "       width=\"24px\">\n",
              "    <path d=\"M0 0h24v24H0V0z\" fill=\"none\"/>\n",
              "    <path d=\"M18.56 5.44l.94 2.06.94-2.06 2.06-.94-2.06-.94-.94-2.06-.94 2.06-2.06.94zm-11 1L8.5 8.5l.94-2.06 2.06-.94-2.06-.94L8.5 2.5l-.94 2.06-2.06.94zm10 10l.94 2.06.94-2.06 2.06-.94-2.06-.94-.94-2.06-.94 2.06-2.06.94z\"/><path d=\"M17.41 7.96l-1.37-1.37c-.4-.4-.92-.59-1.43-.59-.52 0-1.04.2-1.43.59L10.3 9.45l-7.72 7.72c-.78.78-.78 2.05 0 2.83L4 21.41c.39.39.9.59 1.41.59.51 0 1.02-.2 1.41-.59l7.78-7.78 2.81-2.81c.8-.78.8-2.07 0-2.86zM5.41 20L4 18.59l7.72-7.72 1.47 1.35L5.41 20z\"/>\n",
              "  </svg>\n",
              "      </button>\n",
              "      \n",
              "  <style>\n",
              "    .colab-df-container {\n",
              "      display:flex;\n",
              "      flex-wrap:wrap;\n",
              "      gap: 12px;\n",
              "    }\n",
              "\n",
              "    .colab-df-convert {\n",
              "      background-color: #E8F0FE;\n",
              "      border: none;\n",
              "      border-radius: 50%;\n",
              "      cursor: pointer;\n",
              "      display: none;\n",
              "      fill: #1967D2;\n",
              "      height: 32px;\n",
              "      padding: 0 0 0 0;\n",
              "      width: 32px;\n",
              "    }\n",
              "\n",
              "    .colab-df-convert:hover {\n",
              "      background-color: #E2EBFA;\n",
              "      box-shadow: 0px 1px 2px rgba(60, 64, 67, 0.3), 0px 1px 3px 1px rgba(60, 64, 67, 0.15);\n",
              "      fill: #174EA6;\n",
              "    }\n",
              "\n",
              "    [theme=dark] .colab-df-convert {\n",
              "      background-color: #3B4455;\n",
              "      fill: #D2E3FC;\n",
              "    }\n",
              "\n",
              "    [theme=dark] .colab-df-convert:hover {\n",
              "      background-color: #434B5C;\n",
              "      box-shadow: 0px 1px 3px 1px rgba(0, 0, 0, 0.15);\n",
              "      filter: drop-shadow(0px 1px 2px rgba(0, 0, 0, 0.3));\n",
              "      fill: #FFFFFF;\n",
              "    }\n",
              "  </style>\n",
              "\n",
              "      <script>\n",
              "        const buttonEl =\n",
              "          document.querySelector('#df-fe961d02-9b0c-4e7f-a7f5-6f1ef1f7559c button.colab-df-convert');\n",
              "        buttonEl.style.display =\n",
              "          google.colab.kernel.accessAllowed ? 'block' : 'none';\n",
              "\n",
              "        async function convertToInteractive(key) {\n",
              "          const element = document.querySelector('#df-fe961d02-9b0c-4e7f-a7f5-6f1ef1f7559c');\n",
              "          const dataTable =\n",
              "            await google.colab.kernel.invokeFunction('convertToInteractive',\n",
              "                                                     [key], {});\n",
              "          if (!dataTable) return;\n",
              "\n",
              "          const docLinkHtml = 'Like what you see? Visit the ' +\n",
              "            '<a target=\"_blank\" href=https://colab.research.google.com/notebooks/data_table.ipynb>data table notebook</a>'\n",
              "            + ' to learn more about interactive tables.';\n",
              "          element.innerHTML = '';\n",
              "          dataTable['output_type'] = 'display_data';\n",
              "          await google.colab.output.renderOutput(dataTable, element);\n",
              "          const docLink = document.createElement('div');\n",
              "          docLink.innerHTML = docLinkHtml;\n",
              "          element.appendChild(docLink);\n",
              "        }\n",
              "      </script>\n",
              "    </div>\n",
              "  </div>\n",
              "  "
            ],
            "text/plain": [
              "Empty DataFrame\n",
              "Columns: [qid, query]\n",
              "Index: []"
            ]
          },
          "execution_count": 5,
          "metadata": {},
          "output_type": "execute_result"
        }
      ],
      "source": [
        "qid_pfound = qid_url_rating_hostid.groupby('qid').apply(pfound) # группируем по qid и вычисляем pfound\n",
        "qid_max = qid_pfound.idxmax() # берем qid с максимальным pfound\n",
        "\n",
        "qid_query[qid_query[\"qid\"] == qid_max]"
      ]
    },
    {
      "cell_type": "code",
      "execution_count": 6,
      "metadata": {
        "colab": {
          "base_uri": "https://localhost:8080/"
        },
        "id": "48IiYnI26Ja5",
        "outputId": "612833b5-ea55-4a9a-c8d1-0d9bd7061a74"
      },
      "outputs": [
        {
          "name": "stdout",
          "output_type": "stream",
          "text": [
            "0.4603173929969002\n"
          ]
        }
      ],
      "source": [
        "def PFound(qid_url_rating_hostid, K=10, p_break=0.15):\n",
        "\n",
        "    # Ищем наибольший рейтинг для кажого url\n",
        "    max_by_host = qid_url_rating_hostid.groupby(['qid', 'hostid'])['rating'].max().reset_index()\n",
        "    top = max_by_host.sort_values(['qid', 'rating'], ascending=False).groupby(['qid']).head(K)\n",
        "\n",
        "    # задаем порядок для отсортированного списка\n",
        "    top['rank'] = top.groupby('qid').cumcount() \n",
        "    \n",
        "    # считаем pfound \n",
        "    top['omr'] = (1 - top['rating']).shift(1)\n",
        "    top['ompbr'] = 1 - p_break\n",
        "    top.loc[top['rank'] == 0, ['ompbr', 'omr']] = 1\n",
        "\n",
        "    top['omr_ompbr'] = top['omr'] * top['ompbr']\n",
        "\n",
        "    top['plook'] = top.groupby('qid')['omr_ompbr'].cumprod()\n",
        "    top['pfound'] = top['plook'] * top['rating']\n",
        "\n",
        "    pfound_qid = top.groupby('qid')['pfound'].sum() \n",
        "    return pfound_qid.mean()\n",
        "\n"
      ]
    },
    {
      "cell_type": "code",
      "execution_count": null,
      "metadata": {
        "id": "ALNbX3uM7h_9"
      },
      "outputs": [],
      "source": [
        "print(PFound(qid_url_rating_hostid))"
      ]
    }
  ],
  "metadata": {
    "colab": {
      "provenance": []
    },
    "kernelspec": {
      "display_name": "Python 3.8.0 64-bit",
      "language": "python",
      "name": "python3"
    },
    "language_info": {
      "name": "python",
      "version": "3.8.0"
    },
    "vscode": {
      "interpreter": {
        "hash": "0954963ce0501e435fc8a3b327b72d34933226b8387620a2703012fe49353a2a"
      }
    }
  },
  "nbformat": 4,
  "nbformat_minor": 0
}
