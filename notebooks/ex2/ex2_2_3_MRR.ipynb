{
  "nbformat": 4,
  "nbformat_minor": 0,
  "metadata": {
    "colab": {
      "provenance": []
    },
    "kernelspec": {
      "name": "python3",
      "display_name": "Python 3"
    },
    "language_info": {
      "name": "python"
    }
  },
  "cells": [
    {
      "cell_type": "code",
      "source": [
        "pip install loguru"
      ],
      "metadata": {
        "colab": {
          "base_uri": "https://localhost:8080/"
        },
        "id": "EQw_89Zh-OJ7",
        "outputId": "c7d4bc13-22b2-4a9a-c380-260a3edac79a"
      },
      "execution_count": 157,
      "outputs": [
        {
          "output_type": "stream",
          "name": "stdout",
          "text": [
            "Looking in indexes: https://pypi.org/simple, https://us-python.pkg.dev/colab-wheels/public/simple/\n",
            "Requirement already satisfied: loguru in /usr/local/lib/python3.8/dist-packages (0.6.0)\n"
          ]
        }
      ]
    },
    {
      "cell_type": "code",
      "execution_count": 158,
      "metadata": {
        "id": "OLJXYDEx9elu"
      },
      "outputs": [],
      "source": [
        "import timeit\n",
        "\n",
        "from loguru import logger\n",
        "from matplotlib import pyplot as plt\n",
        "import numba as nb\n",
        "import numpy as np\n",
        "import pandas as pd\n",
        "from tqdm import tqdm\n",
        "import time"
      ]
    },
    {
      "cell_type": "code",
      "source": [
        "np.random.seed(23)\n"
      ],
      "metadata": {
        "id": "2JT7CM0w9kVj"
      },
      "execution_count": 159,
      "outputs": []
    },
    {
      "cell_type": "code",
      "source": [
        "interactions = pd.read_csv('interactions.csv')\n",
        "\n",
        "# приводим к читаемому виду (как в лекции)\n",
        "interactions.rename(\n",
        "    columns={\n",
        "        'track_id': 'item_id',\n",
        "        'last_watch_dt': 'datetime',\n",
        "        'total_dur': 'weight'\n",
        "    },\n",
        "    inplace=True)\n",
        "\n",
        "interactions['datetime'] = pd.to_datetime(interactions['datetime'])\n"
      ],
      "metadata": {
        "id": "nBy31mv59oUq"
      },
      "execution_count": 160,
      "outputs": []
    },
    {
      "cell_type": "code",
      "source": [
        "users = pd.read_csv('users.csv')"
      ],
      "metadata": {
        "id": "GywSVlHe9p5k"
      },
      "execution_count": 161,
      "outputs": []
    },
    {
      "cell_type": "code",
      "source": [
        "items = pd.read_csv('items.csv')"
      ],
      "metadata": {
        "id": "Qa63a2fL-owB"
      },
      "execution_count": 162,
      "outputs": []
    },
    {
      "cell_type": "code",
      "source": [
        "def generate_subsample(interactions, users_count, top_k):\n",
        "    users = np.random.choice(interactions['user_id'].unique(), users_count, replace=False)\n",
        "    df = interactions[interactions['user_id'].isin(users)].reset_index(drop=True)\n",
        "    del df['datetime'], df['weight'], df['watched_pct']\n",
        "\n",
        "    recs = np.random.choice(df['item_id'], size=(users_count, top_k))\n",
        "    return df, users, recs\n"
      ],
      "metadata": {
        "id": "vnY5MtaL9sUX"
      },
      "execution_count": 178,
      "outputs": []
    },
    {
      "cell_type": "code",
      "source": [
        "def mrr_pandas(df, users, recs, top_k):\n",
        "    df_r = pd.DataFrame({\n",
        "        'user_id': np.repeat(users, top_k), \n",
        "        'item_id': recs.ravel() \n",
        "    })\n",
        "    # формируем столбик с рангами\n",
        "    df_r['rank'] = df_r.groupby('user_id').cumcount() + 1\n",
        "\n",
        "    # мерджим датасет чтобы найти правильные рекомендации\n",
        "    df_r = df_r.merge(df, how='right', left_on=['user_id', 'item_id'], right_on=['user_id', 'item_id'])\n",
        "\n",
        "    # берем обратное значение для коненчого расчета и заполяем пропуски\n",
        "    df_r['revert_rank'] =  1 / df_r['rank']\n",
        "    df_r['revert_rank'] = df_r['revert_rank'].fillna(0)\n",
        "    \n",
        "    mrr = df_r['revert_rank'].sum() / (top_k * len(users))\n",
        "    return mrr\n"
      ],
      "metadata": {
        "id": "O9ZrTfsm90an"
      },
      "execution_count": 179,
      "outputs": []
    },
    {
      "cell_type": "code",
      "source": [
        "print(mrr_pandas(df, users, recs, 10))"
      ],
      "metadata": {
        "id": "0Q4hWEeSQfbn"
      },
      "execution_count": null,
      "outputs": []
    },
    {
      "cell_type": "code",
      "source": [
        "def mrr_naive(df, users, recs, top_k):\n",
        "    mrp = []\n",
        "    for i, j in enumerate(users):\n",
        "        mrp_value = 0\n",
        "        # формируем список для юзера\n",
        "        user_target = list(df[df['user_id'] == j]['item_id'])\n",
        "        # Проверяем зашла ли юзеру рекомендашка\n",
        "        for rank, rec in enumerate(recs[i]):\n",
        "            if rec in user_target:\n",
        "                mrp_value += 1 / (rank + 1)\n",
        "        mrp.append(mrp_value / k)\n",
        "\n",
        "    return sum(mrp) / len(users)"
      ],
      "metadata": {
        "id": "ZfQpq8oC93JQ"
      },
      "execution_count": 180,
      "outputs": []
    },
    {
      "cell_type": "code",
      "source": [
        "print(mrr_naive(df, users, recs, 10))"
      ],
      "metadata": {
        "id": "xyW2w5HUQg4q"
      },
      "execution_count": null,
      "outputs": []
    },
    {
      "cell_type": "code",
      "source": [
        "@nb.njit(cache=True, parallel=True)\n",
        "def mrr_numba(target, users, recs, k):\n",
        "    mrp = np.zeros(len(users))\n",
        "    for i in nb.prange(len(users)):\n",
        "        mrp_value = 0\n",
        "       # формируем список для юзера\n",
        "        user_target = target[target[:, 0] == users[i]][:, 1]\n",
        "        # Проверяем зашла ли юзеру рекомендашка\n",
        "        for rank in nb.prange(len(recs[i])):\n",
        "            if  recs[i][rank] in user_target:\n",
        "                mrp_value += 1 / (rank + 1)\n",
        "        mrp[i] = mrp_value / k\n",
        "    return mrp.mean()\n"
      ],
      "metadata": {
        "id": "MaZtr1GQ95cH"
      },
      "execution_count": 181,
      "outputs": []
    },
    {
      "cell_type": "code",
      "source": [
        "df, users, recs = generate_subsample(interactions=interactions, users_count=100, top_k=10)\n",
        "target = df.values"
      ],
      "metadata": {
        "id": "6pYsVOGvCXl8"
      },
      "execution_count": 182,
      "outputs": []
    },
    {
      "cell_type": "code",
      "source": [
        "print(mrr_numba(target, users, recs, 10))"
      ],
      "metadata": {
        "colab": {
          "base_uri": "https://localhost:8080/"
        },
        "id": "bZUE604a9134",
        "outputId": "9897e226-377e-43f8-9083-e97422a8c355"
      },
      "execution_count": 183,
      "outputs": [
        {
          "output_type": "stream",
          "name": "stdout",
          "text": [
            "0.012350793650793652\n",
            "0.01235079365079365\n",
            "0.012350793650793652\n"
          ]
        }
      ]
    },
    {
      "cell_type": "code",
      "source": [
        "users_count = [100, 1000, 10000, 100000]\n",
        "top_k = [10, 50, 100]\n",
        "time_pandas = []\n",
        "time_naive = []\n",
        "time_numba = []\n",
        "for user in tqdm(users_count):\n",
        "  for k in top_k:\n",
        "    df, users, recs = generate_subsample(interactions, user, k)\n",
        "    target = df.values\n",
        "    start_time = time.time()\n",
        "    mrr_pandas(df, users, recs, k)\n",
        "    time_pandas.append((time.time() - start_time))\n",
        "    start_time = time.time()\n",
        "    mrr_naive(df, users, recs, k)\n",
        "    time_naive.append((time.time() - start_time))\n",
        "    start_time = time.time()\n",
        "    mrr_numba(target, users, recs, k)\n",
        "    time_numba.append((time.time() - start_time))"
      ],
      "metadata": {
        "colab": {
          "base_uri": "https://localhost:8080/"
        },
        "id": "QZSYH_yl98WX",
        "outputId": "6258bc44-d205-4f71-bdd4-1169a864d69d"
      },
      "execution_count": 194,
      "outputs": [
        {
          "output_type": "stream",
          "name": "stderr",
          "text": [
            "100%|██████████| 4/4 [11:55<00:00, 178.92s/it]\n"
          ]
        }
      ]
    },
    {
      "cell_type": "code",
      "source": [
        "time_pandas"
      ],
      "metadata": {
        "colab": {
          "base_uri": "https://localhost:8080/"
        },
        "id": "LSdtQEUC99zn",
        "outputId": "283295cb-dd4b-43c0-d6d1-d1cb698d365b"
      },
      "execution_count": 195,
      "outputs": [
        {
          "output_type": "execute_result",
          "data": {
            "text/plain": [
              "[0.008580684661865234,\n",
              " 0.009774923324584961,\n",
              " 0.00966644287109375,\n",
              " 0.013853073120117188,\n",
              " 0.03142237663269043,\n",
              " 0.02733778953552246,\n",
              " 0.047275543212890625,\n",
              " 0.1343703269958496,\n",
              " 0.26483821868896484,\n",
              " 0.51971435546875,\n",
              " 2.147554397583008,\n",
              " 4.53538179397583]"
            ]
          },
          "metadata": {},
          "execution_count": 195
        }
      ]
    },
    {
      "cell_type": "code",
      "source": [
        "time_naive"
      ],
      "metadata": {
        "colab": {
          "base_uri": "https://localhost:8080/"
        },
        "id": "av85EQB39_CR",
        "outputId": "19d81546-1f53-4d55-bd9d-421bd4aa3ad9"
      },
      "execution_count": 196,
      "outputs": [
        {
          "output_type": "execute_result",
          "data": {
            "text/plain": [
              "[0.03876066207885742,\n",
              " 0.05926871299743652,\n",
              " 0.04381585121154785,\n",
              " 0.4442174434661865,\n",
              " 0.5663180351257324,\n",
              " 0.5487618446350098,\n",
              " 4.6132566928863525,\n",
              " 5.002443552017212,\n",
              " 5.525508880615234,\n",
              " 96.75317025184631,\n",
              " 110.99147629737854,\n",
              " 108.36359572410583]"
            ]
          },
          "metadata": {},
          "execution_count": 196
        }
      ]
    },
    {
      "cell_type": "code",
      "source": [
        "time_numba"
      ],
      "metadata": {
        "colab": {
          "base_uri": "https://localhost:8080/"
        },
        "id": "l78-86Vw9_55",
        "outputId": "ea693ecf-f463-4bd4-ed45-fe95f0c1a232"
      },
      "execution_count": 197,
      "outputs": [
        {
          "output_type": "execute_result",
          "data": {
            "text/plain": [
              "[0.000545501708984375,\n",
              " 0.00030612945556640625,\n",
              " 0.0003027915954589844,\n",
              " 0.013720273971557617,\n",
              " 0.010856866836547852,\n",
              " 0.012690544128417969,\n",
              " 1.1976871490478516,\n",
              " 1.155242681503296,\n",
              " 1.1885442733764648,\n",
              " 121.70533299446106,\n",
              " 122.71439003944397,\n",
              " 121.81741642951965]"
            ]
          },
          "metadata": {},
          "execution_count": 197
        }
      ]
    },
    {
      "cell_type": "code",
      "source": [
        "\n",
        "time_naive_lg = np.log(np.array(time_naive)).reshape((4, 3))\n",
        "time_numba_lg = np.log(np.array(time_numba)).reshape((4, 3))"
      ],
      "metadata": {
        "id": "HGipCien-BPo"
      },
      "execution_count": 198,
      "outputs": []
    },
    {
      "cell_type": "code",
      "source": [
        "_, ax = plt.subplots(1,3, figsize=(25,5))\n",
        "for i in range(3):\n",
        "    ax[i].plot(users_count, time_pandas[:,i], label='Pandas')\n",
        "    ax[i].plot(users_count, time_numba_lg[:,i], label='Numba')\n",
        "    ax[i].plot(users_count, time_naive_lg[:,i], label='Naive')    \n",
        "    ax[i].set_title(f'k={top_k[i]}')\n",
        "    ax[i].set_xlabel('users')\n",
        "    ax[i].set_ylabel('time')\n",
        "    ax[i].set_ylim(0, 10)\n",
        "    ax[i].grid()\n",
        "    ax[i].legend()\n",
        "plt.show()"
      ],
      "metadata": {
        "colab": {
          "base_uri": "https://localhost:8080/",
          "height": 274
        },
        "id": "obwUN_Fs-CeI",
        "outputId": "a58721fc-ed8a-45d8-e56c-13ed4a90d731"
      },
      "execution_count": 208,
      "outputs": [
        {
          "output_type": "display_data",
          "data": {
            "text/plain": [
              "<Figure size 1800x360 with 3 Axes>"
            ],
            "image/png": "[encoded data removed]"
          },
          "metadata": {
            "needs_background": "light"
          }
        }
      ]
    }
  ]
}